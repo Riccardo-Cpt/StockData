{
  "nbformat": 4,
  "nbformat_minor": 0,
  "metadata": {
    "colab": {
      "provenance": [],
      "mount_file_id": "1lSB55Qu24yowactiBSON_ZhRHqejNII5",
      "authorship_tag": "ABX9TyNf+hEQ9w4myvazvXFAyyrD",
      "include_colab_link": true
    },
    "kernelspec": {
      "name": "python3",
      "display_name": "Python 3"
    },
    "language_info": {
      "name": "python"
    }
  },
  "cells": [
    {
      "cell_type": "markdown",
      "metadata": {
        "id": "view-in-github",
        "colab_type": "text"
      },
      "source": [
        "<a href=\"https://colab.research.google.com/github/Riccardo-Cpt/StockData/blob/main/StockData.ipynb\" target=\"_parent\"><img src=\"https://colab.research.google.com/assets/colab-badge.svg\" alt=\"Open In Colab\"/></a>"
      ]
    },
    {
      "cell_type": "markdown",
      "source": [],
      "metadata": {
        "id": "FO30vanESyxY"
      }
    },
    {
      "cell_type": "code",
      "execution_count": 58,
      "metadata": {
        "collapsed": true,
        "id": "hQ2JJlmBFnS-",
        "colab": {
          "base_uri": "https://localhost:8080/"
        },
        "outputId": "28f982f4-eb6e-4b6e-e641-ffe8cbdd02a0"
      },
      "outputs": [
        {
          "output_type": "stream",
          "name": "stdout",
          "text": [
            "Requirement already satisfied: yfinance in /usr/local/lib/python3.10/dist-packages (0.2.51)\n",
            "Requirement already satisfied: pandas>=1.3.0 in /usr/local/lib/python3.10/dist-packages (from yfinance) (2.2.2)\n",
            "Requirement already satisfied: numpy>=1.16.5 in /usr/local/lib/python3.10/dist-packages (from yfinance) (1.26.4)\n",
            "Requirement already satisfied: requests>=2.31 in /usr/local/lib/python3.10/dist-packages (from yfinance) (2.32.3)\n",
            "Requirement already satisfied: multitasking>=0.0.7 in /usr/local/lib/python3.10/dist-packages (from yfinance) (0.0.11)\n",
            "Requirement already satisfied: lxml>=4.9.1 in /usr/local/lib/python3.10/dist-packages (from yfinance) (5.3.0)\n",
            "Requirement already satisfied: platformdirs>=2.0.0 in /usr/local/lib/python3.10/dist-packages (from yfinance) (4.3.6)\n",
            "Requirement already satisfied: pytz>=2022.5 in /usr/local/lib/python3.10/dist-packages (from yfinance) (2024.2)\n",
            "Requirement already satisfied: frozendict>=2.3.4 in /usr/local/lib/python3.10/dist-packages (from yfinance) (2.4.6)\n",
            "Requirement already satisfied: peewee>=3.16.2 in /usr/local/lib/python3.10/dist-packages (from yfinance) (3.17.8)\n",
            "Requirement already satisfied: beautifulsoup4>=4.11.1 in /usr/local/lib/python3.10/dist-packages (from yfinance) (4.12.3)\n",
            "Requirement already satisfied: html5lib>=1.1 in /usr/local/lib/python3.10/dist-packages (from yfinance) (1.1)\n",
            "Requirement already satisfied: soupsieve>1.2 in /usr/local/lib/python3.10/dist-packages (from beautifulsoup4>=4.11.1->yfinance) (2.6)\n",
            "Requirement already satisfied: six>=1.9 in /usr/local/lib/python3.10/dist-packages (from html5lib>=1.1->yfinance) (1.17.0)\n",
            "Requirement already satisfied: webencodings in /usr/local/lib/python3.10/dist-packages (from html5lib>=1.1->yfinance) (0.5.1)\n",
            "Requirement already satisfied: python-dateutil>=2.8.2 in /usr/local/lib/python3.10/dist-packages (from pandas>=1.3.0->yfinance) (2.8.2)\n",
            "Requirement already satisfied: tzdata>=2022.7 in /usr/local/lib/python3.10/dist-packages (from pandas>=1.3.0->yfinance) (2024.2)\n",
            "Requirement already satisfied: charset-normalizer<4,>=2 in /usr/local/lib/python3.10/dist-packages (from requests>=2.31->yfinance) (3.4.1)\n",
            "Requirement already satisfied: idna<4,>=2.5 in /usr/local/lib/python3.10/dist-packages (from requests>=2.31->yfinance) (3.10)\n",
            "Requirement already satisfied: urllib3<3,>=1.21.1 in /usr/local/lib/python3.10/dist-packages (from requests>=2.31->yfinance) (2.3.0)\n",
            "Requirement already satisfied: certifi>=2017.4.17 in /usr/local/lib/python3.10/dist-packages (from requests>=2.31->yfinance) (2024.12.14)\n"
          ]
        }
      ],
      "source": [
        "!pip install yfinance\n",
        "import yfinance as yf\n",
        "import pandas as pd\n",
        "import seaborn as sb\n",
        "import datetime\n",
        "import matplotlib.pyplot as plt"
      ]
    },
    {
      "cell_type": "markdown",
      "source": [
        "**S&P500**"
      ],
      "metadata": {
        "id": "revLtsOTGQ4-"
      }
    },
    {
      "cell_type": "markdown",
      "source": [
        "Import from yahoo data sp500 hystory"
      ],
      "metadata": {
        "id": "0DA9vxMXdRL3"
      }
    },
    {
      "cell_type": "code",
      "source": [
        "sp500 = yf.Ticker(\"^GSPC\").history(period=\"max\")\n",
        "sp500 = sp500.drop(columns=['Dividends', 'Stock Splits'])\n",
        "\n",
        "#Extract data from 2006 (note that Date is an index in the dtaframe, not a field)\n",
        "sp500 = sp500[sp500.index > \"2005-12-30 00:00:00-05:00\"]\n",
        "\n",
        "sp500.head()"
      ],
      "metadata": {
        "collapsed": true,
        "id": "umDX_xqvFsL2",
        "colab": {
          "base_uri": "https://localhost:8080/",
          "height": 237
        },
        "outputId": "1efdbc7f-f5b3-42b9-b826-1f59a2a1c8a6"
      },
      "execution_count": 59,
      "outputs": [
        {
          "output_type": "execute_result",
          "data": {
            "text/plain": [
              "                                  Open         High          Low        Close  \\\n",
              "Date                                                                            \n",
              "2006-01-03 00:00:00-05:00  1248.290039  1270.219971  1245.739990  1268.800049   \n",
              "2006-01-04 00:00:00-05:00  1268.800049  1275.369995  1267.739990  1273.459961   \n",
              "2006-01-05 00:00:00-05:00  1273.459961  1276.910034  1270.300049  1273.479980   \n",
              "2006-01-06 00:00:00-05:00  1273.479980  1286.089966  1273.479980  1285.449951   \n",
              "2006-01-09 00:00:00-05:00  1285.449951  1290.780029  1284.819946  1290.150024   \n",
              "\n",
              "                               Volume  \n",
              "Date                                   \n",
              "2006-01-03 00:00:00-05:00  2554570000  \n",
              "2006-01-04 00:00:00-05:00  2515330000  \n",
              "2006-01-05 00:00:00-05:00  2433340000  \n",
              "2006-01-06 00:00:00-05:00  2446560000  \n",
              "2006-01-09 00:00:00-05:00  2301490000  "
            ],
            "text/html": [
              "\n",
              "  <div id=\"df-36175822-1c27-4905-b7f2-7f0983499f67\" class=\"colab-df-container\">\n",
              "    <div>\n",
              "<style scoped>\n",
              "    .dataframe tbody tr th:only-of-type {\n",
              "        vertical-align: middle;\n",
              "    }\n",
              "\n",
              "    .dataframe tbody tr th {\n",
              "        vertical-align: top;\n",
              "    }\n",
              "\n",
              "    .dataframe thead th {\n",
              "        text-align: right;\n",
              "    }\n",
              "</style>\n",
              "<table border=\"1\" class=\"dataframe\">\n",
              "  <thead>\n",
              "    <tr style=\"text-align: right;\">\n",
              "      <th></th>\n",
              "      <th>Open</th>\n",
              "      <th>High</th>\n",
              "      <th>Low</th>\n",
              "      <th>Close</th>\n",
              "      <th>Volume</th>\n",
              "    </tr>\n",
              "    <tr>\n",
              "      <th>Date</th>\n",
              "      <th></th>\n",
              "      <th></th>\n",
              "      <th></th>\n",
              "      <th></th>\n",
              "      <th></th>\n",
              "    </tr>\n",
              "  </thead>\n",
              "  <tbody>\n",
              "    <tr>\n",
              "      <th>2006-01-03 00:00:00-05:00</th>\n",
              "      <td>1248.290039</td>\n",
              "      <td>1270.219971</td>\n",
              "      <td>1245.739990</td>\n",
              "      <td>1268.800049</td>\n",
              "      <td>2554570000</td>\n",
              "    </tr>\n",
              "    <tr>\n",
              "      <th>2006-01-04 00:00:00-05:00</th>\n",
              "      <td>1268.800049</td>\n",
              "      <td>1275.369995</td>\n",
              "      <td>1267.739990</td>\n",
              "      <td>1273.459961</td>\n",
              "      <td>2515330000</td>\n",
              "    </tr>\n",
              "    <tr>\n",
              "      <th>2006-01-05 00:00:00-05:00</th>\n",
              "      <td>1273.459961</td>\n",
              "      <td>1276.910034</td>\n",
              "      <td>1270.300049</td>\n",
              "      <td>1273.479980</td>\n",
              "      <td>2433340000</td>\n",
              "    </tr>\n",
              "    <tr>\n",
              "      <th>2006-01-06 00:00:00-05:00</th>\n",
              "      <td>1273.479980</td>\n",
              "      <td>1286.089966</td>\n",
              "      <td>1273.479980</td>\n",
              "      <td>1285.449951</td>\n",
              "      <td>2446560000</td>\n",
              "    </tr>\n",
              "    <tr>\n",
              "      <th>2006-01-09 00:00:00-05:00</th>\n",
              "      <td>1285.449951</td>\n",
              "      <td>1290.780029</td>\n",
              "      <td>1284.819946</td>\n",
              "      <td>1290.150024</td>\n",
              "      <td>2301490000</td>\n",
              "    </tr>\n",
              "  </tbody>\n",
              "</table>\n",
              "</div>\n",
              "    <div class=\"colab-df-buttons\">\n",
              "\n",
              "  <div class=\"colab-df-container\">\n",
              "    <button class=\"colab-df-convert\" onclick=\"convertToInteractive('df-36175822-1c27-4905-b7f2-7f0983499f67')\"\n",
              "            title=\"Convert this dataframe to an interactive table.\"\n",
              "            style=\"display:none;\">\n",
              "\n",
              "  <svg xmlns=\"http://www.w3.org/2000/svg\" height=\"24px\" viewBox=\"0 -960 960 960\">\n",
              "    <path d=\"M120-120v-720h720v720H120Zm60-500h600v-160H180v160Zm220 220h160v-160H400v160Zm0 220h160v-160H400v160ZM180-400h160v-160H180v160Zm440 0h160v-160H620v160ZM180-180h160v-160H180v160Zm440 0h160v-160H620v160Z\"/>\n",
              "  </svg>\n",
              "    </button>\n",
              "\n",
              "  <style>\n",
              "    .colab-df-container {\n",
              "      display:flex;\n",
              "      gap: 12px;\n",
              "    }\n",
              "\n",
              "    .colab-df-convert {\n",
              "      background-color: #E8F0FE;\n",
              "      border: none;\n",
              "      border-radius: 50%;\n",
              "      cursor: pointer;\n",
              "      display: none;\n",
              "      fill: #1967D2;\n",
              "      height: 32px;\n",
              "      padding: 0 0 0 0;\n",
              "      width: 32px;\n",
              "    }\n",
              "\n",
              "    .colab-df-convert:hover {\n",
              "      background-color: #E2EBFA;\n",
              "      box-shadow: 0px 1px 2px rgba(60, 64, 67, 0.3), 0px 1px 3px 1px rgba(60, 64, 67, 0.15);\n",
              "      fill: #174EA6;\n",
              "    }\n",
              "\n",
              "    .colab-df-buttons div {\n",
              "      margin-bottom: 4px;\n",
              "    }\n",
              "\n",
              "    [theme=dark] .colab-df-convert {\n",
              "      background-color: #3B4455;\n",
              "      fill: #D2E3FC;\n",
              "    }\n",
              "\n",
              "    [theme=dark] .colab-df-convert:hover {\n",
              "      background-color: #434B5C;\n",
              "      box-shadow: 0px 1px 3px 1px rgba(0, 0, 0, 0.15);\n",
              "      filter: drop-shadow(0px 1px 2px rgba(0, 0, 0, 0.3));\n",
              "      fill: #FFFFFF;\n",
              "    }\n",
              "  </style>\n",
              "\n",
              "    <script>\n",
              "      const buttonEl =\n",
              "        document.querySelector('#df-36175822-1c27-4905-b7f2-7f0983499f67 button.colab-df-convert');\n",
              "      buttonEl.style.display =\n",
              "        google.colab.kernel.accessAllowed ? 'block' : 'none';\n",
              "\n",
              "      async function convertToInteractive(key) {\n",
              "        const element = document.querySelector('#df-36175822-1c27-4905-b7f2-7f0983499f67');\n",
              "        const dataTable =\n",
              "          await google.colab.kernel.invokeFunction('convertToInteractive',\n",
              "                                                    [key], {});\n",
              "        if (!dataTable) return;\n",
              "\n",
              "        const docLinkHtml = 'Like what you see? Visit the ' +\n",
              "          '<a target=\"_blank\" href=https://colab.research.google.com/notebooks/data_table.ipynb>data table notebook</a>'\n",
              "          + ' to learn more about interactive tables.';\n",
              "        element.innerHTML = '';\n",
              "        dataTable['output_type'] = 'display_data';\n",
              "        await google.colab.output.renderOutput(dataTable, element);\n",
              "        const docLink = document.createElement('div');\n",
              "        docLink.innerHTML = docLinkHtml;\n",
              "        element.appendChild(docLink);\n",
              "      }\n",
              "    </script>\n",
              "  </div>\n",
              "\n",
              "\n",
              "<div id=\"df-29c00fb2-a1ff-4867-a473-48777d406704\">\n",
              "  <button class=\"colab-df-quickchart\" onclick=\"quickchart('df-29c00fb2-a1ff-4867-a473-48777d406704')\"\n",
              "            title=\"Suggest charts\"\n",
              "            style=\"display:none;\">\n",
              "\n",
              "<svg xmlns=\"http://www.w3.org/2000/svg\" height=\"24px\"viewBox=\"0 0 24 24\"\n",
              "     width=\"24px\">\n",
              "    <g>\n",
              "        <path d=\"M19 3H5c-1.1 0-2 .9-2 2v14c0 1.1.9 2 2 2h14c1.1 0 2-.9 2-2V5c0-1.1-.9-2-2-2zM9 17H7v-7h2v7zm4 0h-2V7h2v10zm4 0h-2v-4h2v4z\"/>\n",
              "    </g>\n",
              "</svg>\n",
              "  </button>\n",
              "\n",
              "<style>\n",
              "  .colab-df-quickchart {\n",
              "      --bg-color: #E8F0FE;\n",
              "      --fill-color: #1967D2;\n",
              "      --hover-bg-color: #E2EBFA;\n",
              "      --hover-fill-color: #174EA6;\n",
              "      --disabled-fill-color: #AAA;\n",
              "      --disabled-bg-color: #DDD;\n",
              "  }\n",
              "\n",
              "  [theme=dark] .colab-df-quickchart {\n",
              "      --bg-color: #3B4455;\n",
              "      --fill-color: #D2E3FC;\n",
              "      --hover-bg-color: #434B5C;\n",
              "      --hover-fill-color: #FFFFFF;\n",
              "      --disabled-bg-color: #3B4455;\n",
              "      --disabled-fill-color: #666;\n",
              "  }\n",
              "\n",
              "  .colab-df-quickchart {\n",
              "    background-color: var(--bg-color);\n",
              "    border: none;\n",
              "    border-radius: 50%;\n",
              "    cursor: pointer;\n",
              "    display: none;\n",
              "    fill: var(--fill-color);\n",
              "    height: 32px;\n",
              "    padding: 0;\n",
              "    width: 32px;\n",
              "  }\n",
              "\n",
              "  .colab-df-quickchart:hover {\n",
              "    background-color: var(--hover-bg-color);\n",
              "    box-shadow: 0 1px 2px rgba(60, 64, 67, 0.3), 0 1px 3px 1px rgba(60, 64, 67, 0.15);\n",
              "    fill: var(--button-hover-fill-color);\n",
              "  }\n",
              "\n",
              "  .colab-df-quickchart-complete:disabled,\n",
              "  .colab-df-quickchart-complete:disabled:hover {\n",
              "    background-color: var(--disabled-bg-color);\n",
              "    fill: var(--disabled-fill-color);\n",
              "    box-shadow: none;\n",
              "  }\n",
              "\n",
              "  .colab-df-spinner {\n",
              "    border: 2px solid var(--fill-color);\n",
              "    border-color: transparent;\n",
              "    border-bottom-color: var(--fill-color);\n",
              "    animation:\n",
              "      spin 1s steps(1) infinite;\n",
              "  }\n",
              "\n",
              "  @keyframes spin {\n",
              "    0% {\n",
              "      border-color: transparent;\n",
              "      border-bottom-color: var(--fill-color);\n",
              "      border-left-color: var(--fill-color);\n",
              "    }\n",
              "    20% {\n",
              "      border-color: transparent;\n",
              "      border-left-color: var(--fill-color);\n",
              "      border-top-color: var(--fill-color);\n",
              "    }\n",
              "    30% {\n",
              "      border-color: transparent;\n",
              "      border-left-color: var(--fill-color);\n",
              "      border-top-color: var(--fill-color);\n",
              "      border-right-color: var(--fill-color);\n",
              "    }\n",
              "    40% {\n",
              "      border-color: transparent;\n",
              "      border-right-color: var(--fill-color);\n",
              "      border-top-color: var(--fill-color);\n",
              "    }\n",
              "    60% {\n",
              "      border-color: transparent;\n",
              "      border-right-color: var(--fill-color);\n",
              "    }\n",
              "    80% {\n",
              "      border-color: transparent;\n",
              "      border-right-color: var(--fill-color);\n",
              "      border-bottom-color: var(--fill-color);\n",
              "    }\n",
              "    90% {\n",
              "      border-color: transparent;\n",
              "      border-bottom-color: var(--fill-color);\n",
              "    }\n",
              "  }\n",
              "</style>\n",
              "\n",
              "  <script>\n",
              "    async function quickchart(key) {\n",
              "      const quickchartButtonEl =\n",
              "        document.querySelector('#' + key + ' button');\n",
              "      quickchartButtonEl.disabled = true;  // To prevent multiple clicks.\n",
              "      quickchartButtonEl.classList.add('colab-df-spinner');\n",
              "      try {\n",
              "        const charts = await google.colab.kernel.invokeFunction(\n",
              "            'suggestCharts', [key], {});\n",
              "      } catch (error) {\n",
              "        console.error('Error during call to suggestCharts:', error);\n",
              "      }\n",
              "      quickchartButtonEl.classList.remove('colab-df-spinner');\n",
              "      quickchartButtonEl.classList.add('colab-df-quickchart-complete');\n",
              "    }\n",
              "    (() => {\n",
              "      let quickchartButtonEl =\n",
              "        document.querySelector('#df-29c00fb2-a1ff-4867-a473-48777d406704 button');\n",
              "      quickchartButtonEl.style.display =\n",
              "        google.colab.kernel.accessAllowed ? 'block' : 'none';\n",
              "    })();\n",
              "  </script>\n",
              "</div>\n",
              "\n",
              "    </div>\n",
              "  </div>\n"
            ],
            "application/vnd.google.colaboratory.intrinsic+json": {
              "type": "dataframe",
              "variable_name": "sp500",
              "summary": "{\n  \"name\": \"sp500\",\n  \"rows\": 4787,\n  \"fields\": [\n    {\n      \"column\": \"Date\",\n      \"properties\": {\n        \"dtype\": \"date\",\n        \"min\": \"2006-01-03 00:00:00-05:00\",\n        \"max\": \"2025-01-10 00:00:00-05:00\",\n        \"num_unique_values\": 4787,\n        \"samples\": [\n          \"2008-03-28 00:00:00-04:00\",\n          \"2009-07-22 00:00:00-04:00\",\n          \"2012-09-10 00:00:00-04:00\"\n        ],\n        \"semantic_type\": \"\",\n        \"description\": \"\"\n      }\n    },\n    {\n      \"column\": \"Open\",\n      \"properties\": {\n        \"dtype\": \"number\",\n        \"std\": 1286.7652246138928,\n        \"min\": 679.280029296875,\n        \"max\": 6089.02978515625,\n        \"num_unique_values\": 4739,\n        \"samples\": [\n          2112.800048828125,\n          1517.3599853515625,\n          1178.8599853515625\n        ],\n        \"semantic_type\": \"\",\n        \"description\": \"\"\n      }\n    },\n    {\n      \"column\": \"High\",\n      \"properties\": {\n        \"dtype\": \"number\",\n        \"std\": 1292.661886342417,\n        \"min\": 695.27001953125,\n        \"max\": 6099.97021484375,\n        \"num_unique_values\": 4733,\n        \"samples\": [\n          2125.919921875,\n          1530.5699462890625,\n          1204.219970703125\n        ],\n        \"semantic_type\": \"\",\n        \"description\": \"\"\n      }\n    },\n    {\n      \"column\": \"Low\",\n      \"properties\": {\n        \"dtype\": \"number\",\n        \"std\": 1280.4192096179552,\n        \"min\": 666.7899780273438,\n        \"max\": 6079.97998046875,\n        \"num_unique_values\": 4747,\n        \"samples\": [\n          1358.7900390625,\n          2864.1201171875,\n          1307.3900146484375\n        ],\n        \"semantic_type\": \"\",\n        \"description\": \"\"\n      }\n    },\n    {\n      \"column\": \"Close\",\n      \"properties\": {\n        \"dtype\": \"number\",\n        \"std\": 1286.832526286609,\n        \"min\": 676.530029296875,\n        \"max\": 6090.27001953125,\n        \"num_unique_values\": 4744,\n        \"samples\": [\n          832.8599853515625,\n          1115.0999755859375,\n          5048.419921875\n        ],\n        \"semantic_type\": \"\",\n        \"description\": \"\"\n      }\n    },\n    {\n      \"column\": \"Volume\",\n      \"properties\": {\n        \"dtype\": \"number\",\n        \"std\": 1142589660,\n        \"min\": 832550000,\n        \"max\": 11456230000,\n        \"num_unique_values\": 4713,\n        \"samples\": [\n          4561300000,\n          5270710000,\n          5804810000\n        ],\n        \"semantic_type\": \"\",\n        \"description\": \"\"\n      }\n    }\n  ]\n}"
            }
          },
          "metadata": {},
          "execution_count": 59
        }
      ]
    },
    {
      "cell_type": "markdown",
      "source": [
        "**Euronext 100**"
      ],
      "metadata": {
        "id": "5QBTNE0f8s81"
      }
    },
    {
      "cell_type": "markdown",
      "source": [
        "Import from yahoo data Euronext 100 hystory"
      ],
      "metadata": {
        "id": "2AdCwOCHgF4C"
      }
    },
    {
      "cell_type": "code",
      "source": [
        "eur100 = yf.Ticker(\"^N100\").history(period=\"max\")\n",
        "eur100 = eur100.drop(columns=['Dividends', 'Stock Splits'])\n",
        "\n",
        "#Extract data from 2006 (note that Date is an index in the dtaframe, not a field)\n",
        "eur100 = eur100[eur100.index > \"2005-12-30 00:00:00-05:00\"]\n",
        "\n",
        "eur100.head()"
      ],
      "metadata": {
        "id": "7wuKAzxCd8M-"
      },
      "execution_count": null,
      "outputs": []
    },
    {
      "cell_type": "markdown",
      "source": [
        "**Amazon**"
      ],
      "metadata": {
        "id": "Se4Q5uuU80Tr"
      }
    },
    {
      "cell_type": "markdown",
      "source": [
        "Import data related to Amazon Company"
      ],
      "metadata": {
        "id": "Ohjy4yBpirew"
      }
    },
    {
      "cell_type": "code",
      "source": [
        "amzn = yf.Ticker(\"AMZN\").history(period=\"max\")\n",
        "amzn = amzn.drop(columns=['Dividends', 'Stock Splits'])\n",
        "\n",
        "#Extract data from 2006 (note that Date is an index in the dtaframe, not a field)\n",
        "amzn = amzn[amzn.index > \"2005-12-30 00:00:00-05:00\"]\n",
        "\n",
        "amzn.head()"
      ],
      "metadata": {
        "id": "AMy5T_ORjUaR"
      },
      "execution_count": null,
      "outputs": []
    },
    {
      "cell_type": "markdown",
      "source": [
        "# **Normalizzare è necessario per plottare correttamente i dati di amz rispetto gli indici**"
      ],
      "metadata": {
        "id": "__vcFRq2J6yj"
      }
    },
    {
      "cell_type": "code",
      "source": [
        "# def normalize_column(df, column_name):\n",
        "#     \"\"\"\n",
        "#     Normalize a specified column in a DataFrame using Z-score normalization.\n",
        "\n",
        "#     Args:\n",
        "#         df (pd.DataFrame): The DataFrame containing the column to normalize.\n",
        "#         column_name (str): The name of the column to normalize.\n",
        "\n",
        "#     Returns:\n",
        "#         pd.Series: A new column with normalized values.\n",
        "#     \"\"\"\n",
        "#     mean = df[column_name].mean()\n",
        "#     std = df[column_name].std()\n",
        "#     return (df[column_name] - mean) / std\n",
        "\n",
        "# # Apply normalization to each dataset\n",
        "# sp500[\"Close_norm\"] = normalize_column(sp500, \"Close\")\n",
        "# eur100[\"Close_norm\"] = normalize_column(eur100, \"Close\")\n",
        "# amzn[\"Close_norm\"] = normalize_column(amzn, \"Close\")\n",
        "\n",
        "\n",
        "\n",
        "import numpy as np\n",
        "\n",
        "def log_transform_column(df, column_name):\n",
        "    \"\"\"\n",
        "    Apply a log transformation to a column in a DataFrame.\n",
        "\n",
        "    Args:\n",
        "        df (pd.DataFrame): The DataFrame containing the column to transform.\n",
        "        column_name (str): The name of the column to transform.\n",
        "\n",
        "    Returns:\n",
        "        pd.Series: A new column with log-transformed values.\n",
        "    \"\"\"\n",
        "    return np.log(df[column_name])\n",
        "\n",
        "# Apply log transformation to each dataset\n",
        "sp500[\"Close_log\"] = log_transform_column(sp500, \"Close\")\n",
        "eur100[\"Close_log\"] = log_transform_column(eur100, \"Close\")\n",
        "amzn[\"Close_log\"] = log_transform_column(amzn, \"Close\")\n"
      ],
      "metadata": {
        "id": "-hgG5ehMHvzt"
      },
      "execution_count": null,
      "outputs": []
    },
    {
      "cell_type": "code",
      "source": [
        "y_col = \"Close_log\"\n",
        "\n",
        "# Plotting the amazon data\n",
        "sb.lineplot(data=amzn, x=amzn.index, y=y_col, label=\"AMZN\", color=\"red\")\n",
        "\n",
        "# Plotting the S&P 500 data\n",
        "sb.lineplot(data=sp500, x=sp500.index, y=y_col, label=\"S&P 500\", color=\"green\")\n",
        "\n",
        "# # Plotting the EUR 100 data\n",
        "sb.lineplot(data=eur100, x=eur100.index, y=\"Close\", label=\"EUR 100\", color=\"blue\")\n",
        "\n",
        "\n",
        "# Adding plot title and labels\n",
        "plt.title(\"S&P 500 vs EUR 100 vs AMZN Close Prices\")\n",
        "plt.xlabel(\"Date\")\n",
        "plt.ylabel(\"Close Price\")\n",
        "\n",
        "# Show legend\n",
        "plt.legend()\n",
        "\n",
        "# Display the plot\n",
        "plt.show()"
      ],
      "metadata": {
        "id": "9KJEB_vWG7tj"
      },
      "execution_count": null,
      "outputs": []
    },
    {
      "cell_type": "code",
      "source": [
        "#Quanto avrei guadaganto oggi se avessi investito 1000 euro l'1 marzo  su S&P 500.\n",
        "sp500_start = sp500[sp500.index == \"2012-03-01 00:00:00-05:00\"]\n",
        "\n",
        "start_investment = sp500_start[\"Open\"][0]\n",
        "start_investment\n"
      ],
      "metadata": {
        "id": "si-NNtiyJbr5"
      },
      "execution_count": null,
      "outputs": []
    },
    {
      "cell_type": "code",
      "source": [
        "from datetime import datetime\n",
        "from datetime import timedelta\n",
        "\n",
        "# datetime object containing current date and time\n",
        "now = datetime.now() -timedelta(days = 1)\n",
        "dt_string = now.strftime(\"%Y-%m-%d 00:00:00-05:00\")\n",
        "sp500_now = sp500[sp500.index == dt_string]\n",
        "end_investment = sp500_now[\"Open\"][0]\n",
        "\n"
      ],
      "metadata": {
        "id": "fXl69Wx8TgDC"
      },
      "execution_count": null,
      "outputs": []
    },
    {
      "cell_type": "code",
      "source": [
        "end_investment/start_investment*1000"
      ],
      "metadata": {
        "id": "UUIHlOhjTfzd"
      },
      "execution_count": null,
      "outputs": []
    }
  ]
}